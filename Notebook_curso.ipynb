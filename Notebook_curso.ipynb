{
 "cells": [
  {
   "cell_type": "markdown",
   "id": "d27af062-5813-4589-aa1e-eebcf1a323f7",
   "metadata": {},
   "source": [
    "# Machine learning con python"
   ]
  },
  {
   "cell_type": "markdown",
   "id": "2c31694c",
   "metadata": {},
   "source": [
    "# integrantes:\n",
    "## Angela Rodriguez Maldonado A01636960\n",
    "## Angel Marquez Hernandez A01351408"
   ]
  },
  {
   "cell_type": "raw",
   "id": "1c88c28a-ae36-44cc-b633-3ac263ad6b51",
   "metadata": {},
   "source": [
    "Input(x)-> Comentarios\n",
    "output(y) -> sentimiento"
   ]
  },
  {
   "cell_type": "code",
   "execution_count": 27,
   "id": "66c9541c-d52f-416a-8500-05625c91d6dc",
   "metadata": {},
   "outputs": [
    {
     "data": {
      "text/html": [
       "<div>\n",
       "<style scoped>\n",
       "    .dataframe tbody tr th:only-of-type {\n",
       "        vertical-align: middle;\n",
       "    }\n",
       "\n",
       "    .dataframe tbody tr th {\n",
       "        vertical-align: top;\n",
       "    }\n",
       "\n",
       "    .dataframe thead th {\n",
       "        text-align: right;\n",
       "    }\n",
       "</style>\n",
       "<table border=\"1\" class=\"dataframe\">\n",
       "  <thead>\n",
       "    <tr style=\"text-align: right;\">\n",
       "      <th></th>\n",
       "      <th>review</th>\n",
       "      <th>sentiment</th>\n",
       "    </tr>\n",
       "  </thead>\n",
       "  <tbody>\n",
       "    <tr>\n",
       "      <th>0</th>\n",
       "      <td>One of the other reviewers has mentioned that ...</td>\n",
       "      <td>positive</td>\n",
       "    </tr>\n",
       "    <tr>\n",
       "      <th>1</th>\n",
       "      <td>A wonderful little production. &lt;br /&gt;&lt;br /&gt;The...</td>\n",
       "      <td>positive</td>\n",
       "    </tr>\n",
       "    <tr>\n",
       "      <th>2</th>\n",
       "      <td>I thought this was a wonderful way to spend ti...</td>\n",
       "      <td>positive</td>\n",
       "    </tr>\n",
       "    <tr>\n",
       "      <th>3</th>\n",
       "      <td>Basically there's a family where a little boy ...</td>\n",
       "      <td>negative</td>\n",
       "    </tr>\n",
       "    <tr>\n",
       "      <th>4</th>\n",
       "      <td>Petter Mattei's \"Love in the Time of Money\" is...</td>\n",
       "      <td>positive</td>\n",
       "    </tr>\n",
       "    <tr>\n",
       "      <th>...</th>\n",
       "      <td>...</td>\n",
       "      <td>...</td>\n",
       "    </tr>\n",
       "    <tr>\n",
       "      <th>49995</th>\n",
       "      <td>I thought this movie did a down right good job...</td>\n",
       "      <td>positive</td>\n",
       "    </tr>\n",
       "    <tr>\n",
       "      <th>49996</th>\n",
       "      <td>Bad plot, bad dialogue, bad acting, idiotic di...</td>\n",
       "      <td>negative</td>\n",
       "    </tr>\n",
       "    <tr>\n",
       "      <th>49997</th>\n",
       "      <td>I am a Catholic taught in parochial elementary...</td>\n",
       "      <td>negative</td>\n",
       "    </tr>\n",
       "    <tr>\n",
       "      <th>49998</th>\n",
       "      <td>I'm going to have to disagree with the previou...</td>\n",
       "      <td>negative</td>\n",
       "    </tr>\n",
       "    <tr>\n",
       "      <th>49999</th>\n",
       "      <td>No one expects the Star Trek movies to be high...</td>\n",
       "      <td>negative</td>\n",
       "    </tr>\n",
       "  </tbody>\n",
       "</table>\n",
       "<p>50000 rows × 2 columns</p>\n",
       "</div>"
      ],
      "text/plain": [
       "                                                  review sentiment\n",
       "0      One of the other reviewers has mentioned that ...  positive\n",
       "1      A wonderful little production. <br /><br />The...  positive\n",
       "2      I thought this was a wonderful way to spend ti...  positive\n",
       "3      Basically there's a family where a little boy ...  negative\n",
       "4      Petter Mattei's \"Love in the Time of Money\" is...  positive\n",
       "...                                                  ...       ...\n",
       "49995  I thought this movie did a down right good job...  positive\n",
       "49996  Bad plot, bad dialogue, bad acting, idiotic di...  negative\n",
       "49997  I am a Catholic taught in parochial elementary...  negative\n",
       "49998  I'm going to have to disagree with the previou...  negative\n",
       "49999  No one expects the Star Trek movies to be high...  negative\n",
       "\n",
       "[50000 rows x 2 columns]"
      ]
     },
     "execution_count": 27,
     "metadata": {},
     "output_type": "execute_result"
    }
   ],
   "source": [
    "#codigo para empezar a trabajar, es necesario correr\n",
    "import pandas as pd\n",
    "df_review =pd.read_csv('IMDB Dataset.csv')\n",
    "df_review"
   ]
  },
  {
   "cell_type": "markdown",
   "id": "a4c65bf9-d6d8-48aa-9257-9a6dc09ce69a",
   "metadata": {},
   "source": [
    "## desbalanceo de datos"
   ]
  },
  {
   "cell_type": "code",
   "execution_count": 28,
   "id": "d88da25c-0cce-411d-923c-1661a36710cb",
   "metadata": {},
   "outputs": [
    {
     "data": {
      "text/plain": [
       "sentiment\n",
       "negative    25000\n",
       "positive    25000\n",
       "dtype: int64"
      ]
     },
     "execution_count": 28,
     "metadata": {},
     "output_type": "execute_result"
    }
   ],
   "source": [
    "# count origina de datos balanceados\n",
    "df_review.value_counts('sentiment')"
   ]
  },
  {
   "cell_type": "code",
   "execution_count": 29,
   "id": "1949529e-bd14-465f-8a6f-c5d4a123bd54",
   "metadata": {},
   "outputs": [
    {
     "data": {
      "text/plain": [
       "sentiment\n",
       "positive    9000\n",
       "negative    1000\n",
       "dtype: int64"
      ]
     },
     "execution_count": 29,
     "metadata": {},
     "output_type": "execute_result"
    }
   ],
   "source": [
    "#desbalanceo de datos para ejercicio\n",
    "df_positivo = df_review[df_review['sentiment'] == 'positive'][:9000]\n",
    "df_negativo = df_review[df_review['sentiment'] == 'negative'][:1000]\n",
    "\n",
    "df_review_des = pd.concat([df_positivo,df_negativo])\n",
    "df_review_des.value_counts('sentiment')"
   ]
  },
  {
   "cell_type": "code",
   "execution_count": 30,
   "id": "e84e4023-8b88-44c7-904c-e613ef214474",
   "metadata": {},
   "outputs": [
    {
     "data": {
      "text/html": [
       "<div>\n",
       "<style scoped>\n",
       "    .dataframe tbody tr th:only-of-type {\n",
       "        vertical-align: middle;\n",
       "    }\n",
       "\n",
       "    .dataframe tbody tr th {\n",
       "        vertical-align: top;\n",
       "    }\n",
       "\n",
       "    .dataframe thead th {\n",
       "        text-align: right;\n",
       "    }\n",
       "</style>\n",
       "<table border=\"1\" class=\"dataframe\">\n",
       "  <thead>\n",
       "    <tr style=\"text-align: right;\">\n",
       "      <th></th>\n",
       "      <th>review</th>\n",
       "      <th>sentiment</th>\n",
       "    </tr>\n",
       "  </thead>\n",
       "  <tbody>\n",
       "    <tr>\n",
       "      <th>0</th>\n",
       "      <td>Basically there's a family where a little boy ...</td>\n",
       "      <td>negative</td>\n",
       "    </tr>\n",
       "    <tr>\n",
       "      <th>1</th>\n",
       "      <td>This show was an amazing, fresh &amp; innovative i...</td>\n",
       "      <td>negative</td>\n",
       "    </tr>\n",
       "    <tr>\n",
       "      <th>2</th>\n",
       "      <td>Encouraged by the positive comments about this...</td>\n",
       "      <td>negative</td>\n",
       "    </tr>\n",
       "    <tr>\n",
       "      <th>3</th>\n",
       "      <td>Phil the Alien is one of those quirky films wh...</td>\n",
       "      <td>negative</td>\n",
       "    </tr>\n",
       "    <tr>\n",
       "      <th>4</th>\n",
       "      <td>I saw this movie when I was about 12 when it c...</td>\n",
       "      <td>negative</td>\n",
       "    </tr>\n",
       "    <tr>\n",
       "      <th>...</th>\n",
       "      <td>...</td>\n",
       "      <td>...</td>\n",
       "    </tr>\n",
       "    <tr>\n",
       "      <th>1995</th>\n",
       "      <td>Another Channel 4 great canned long before it'...</td>\n",
       "      <td>positive</td>\n",
       "    </tr>\n",
       "    <tr>\n",
       "      <th>1996</th>\n",
       "      <td>Overall, this is entertaining and odd film. Do...</td>\n",
       "      <td>positive</td>\n",
       "    </tr>\n",
       "    <tr>\n",
       "      <th>1997</th>\n",
       "      <td>...I cannot believe I was hooked on this show ...</td>\n",
       "      <td>positive</td>\n",
       "    </tr>\n",
       "    <tr>\n",
       "      <th>1998</th>\n",
       "      <td>Francis Ford Coppola wrote and directed this s...</td>\n",
       "      <td>positive</td>\n",
       "    </tr>\n",
       "    <tr>\n",
       "      <th>1999</th>\n",
       "      <td>I loved this movie from beginning to end.I am ...</td>\n",
       "      <td>positive</td>\n",
       "    </tr>\n",
       "  </tbody>\n",
       "</table>\n",
       "<p>2000 rows × 2 columns</p>\n",
       "</div>"
      ],
      "text/plain": [
       "                                                 review sentiment\n",
       "0     Basically there's a family where a little boy ...  negative\n",
       "1     This show was an amazing, fresh & innovative i...  negative\n",
       "2     Encouraged by the positive comments about this...  negative\n",
       "3     Phil the Alien is one of those quirky films wh...  negative\n",
       "4     I saw this movie when I was about 12 when it c...  negative\n",
       "...                                                 ...       ...\n",
       "1995  Another Channel 4 great canned long before it'...  positive\n",
       "1996  Overall, this is entertaining and odd film. Do...  positive\n",
       "1997  ...I cannot believe I was hooked on this show ...  positive\n",
       "1998  Francis Ford Coppola wrote and directed this s...  positive\n",
       "1999  I loved this movie from beginning to end.I am ...  positive\n",
       "\n",
       "[2000 rows x 2 columns]"
      ]
     },
     "execution_count": 30,
     "metadata": {},
     "output_type": "execute_result"
    }
   ],
   "source": [
    "from imblearn.under_sampling import RandomUnderSampler\n",
    "\n",
    "rus = RandomUnderSampler()\n",
    "\n",
    "#metemos la informacion en nuestro RUS, indicamos el input(reviews) y output(sentimiento) \n",
    "# el input debe ser un array 2D, por eso usamos doble llave\n",
    "df_review_bal, df_review_bal['sentiment'] = rus.fit_resample(df_review_des[['review']], df_review_des['sentiment'])\n",
    "df_review_bal\n",
    "\n",
    "#nos devuelve un set balanceado de datos, en este caso 1000 positivos y 1000 negativos"
   ]
  },
  {
   "cell_type": "code",
   "execution_count": 31,
   "id": "585cd9c3-4338-40ff-9652-add72589790a",
   "metadata": {},
   "outputs": [],
   "source": [
    "from sklearn.model_selection import train_test_split\n",
    "\n",
    "#metemos los datos, el porcentaje de datos para el testing y la semilla de random para poder replicar los resultados\n",
    "train,test=train_test_split(df_review_bal, test_size=0.33,random_state=42)"
   ]
  },
  {
   "cell_type": "code",
   "execution_count": 32,
   "id": "aca05226-8b8e-4a76-8cdb-58dac2574817",
   "metadata": {},
   "outputs": [],
   "source": [
    "train_x, train_y=train['review'], train['sentiment']\n",
    "test_x, test_y = test['review'], test['sentiment']"
   ]
  },
  {
   "cell_type": "markdown",
   "id": "83036447",
   "metadata": {},
   "source": [
    "# bag of words\n",
    "minuto 19:30 en el video"
   ]
  },
  {
   "cell_type": "code",
   "execution_count": 33,
   "id": "2eafb12f",
   "metadata": {},
   "outputs": [
    {
     "name": "stderr",
     "output_type": "stream",
     "text": [
      "/Users/angelmarquez/anaconda3/lib/python3.9/site-packages/sklearn/utils/deprecation.py:87: FutureWarning: Function get_feature_names is deprecated; get_feature_names is deprecated in 1.0 and will be removed in 1.2. Please use get_feature_names_out instead.\n",
      "  warnings.warn(msg, category=FutureWarning)\n"
     ]
    },
    {
     "data": {
      "text/html": [
       "<div>\n",
       "<style scoped>\n",
       "    .dataframe tbody tr th:only-of-type {\n",
       "        vertical-align: middle;\n",
       "    }\n",
       "\n",
       "    .dataframe tbody tr th {\n",
       "        vertical-align: top;\n",
       "    }\n",
       "\n",
       "    .dataframe thead th {\n",
       "        text-align: right;\n",
       "    }\n",
       "</style>\n",
       "<table border=\"1\" class=\"dataframe\">\n",
       "  <thead>\n",
       "    <tr style=\"text-align: right;\">\n",
       "      <th></th>\n",
       "      <th>amo</th>\n",
       "      <th>codigo</th>\n",
       "      <th>código</th>\n",
       "      <th>el</th>\n",
       "      <th>en</th>\n",
       "      <th>escribir</th>\n",
       "      <th>java</th>\n",
       "      <th>odio</th>\n",
       "      <th>python</th>\n",
       "    </tr>\n",
       "  </thead>\n",
       "  <tbody>\n",
       "    <tr>\n",
       "      <th>review1</th>\n",
       "      <td>2</td>\n",
       "      <td>1</td>\n",
       "      <td>1</td>\n",
       "      <td>1</td>\n",
       "      <td>2</td>\n",
       "      <td>1</td>\n",
       "      <td>0</td>\n",
       "      <td>0</td>\n",
       "      <td>2</td>\n",
       "    </tr>\n",
       "    <tr>\n",
       "      <th>review2</th>\n",
       "      <td>0</td>\n",
       "      <td>1</td>\n",
       "      <td>1</td>\n",
       "      <td>1</td>\n",
       "      <td>2</td>\n",
       "      <td>1</td>\n",
       "      <td>2</td>\n",
       "      <td>2</td>\n",
       "      <td>0</td>\n",
       "    </tr>\n",
       "  </tbody>\n",
       "</table>\n",
       "</div>"
      ],
      "text/plain": [
       "         amo  codigo  código  el  en  escribir  java  odio  python\n",
       "review1    2       1       1   1   2         1     0     0       2\n",
       "review2    0       1       1   1   2         1     2     2       0"
      ]
     },
     "execution_count": 33,
     "metadata": {},
     "output_type": "execute_result"
    }
   ],
   "source": [
    "#Count vectorizer\n",
    "import pandas as pd\n",
    "from sklearn.feature_extraction.text import CountVectorizer\n",
    "text = [\"Amo escribir codigo en Python. Amo el código en Python\",\n",
    "        \"Odio escribir codigo en Java. Odio el código en Java\"]\n",
    "\n",
    "df = pd.DataFrame({'review': ['review1', 'review2'], 'text':text})\n",
    "cv = CountVectorizer()\n",
    "cv_matrix = cv.fit_transform(df['text'])\n",
    "df_dtm = pd.DataFrame(cv_matrix.toarray(), index=df['review'].values, columns=cv.get_feature_names())\n",
    "df_dtm\n",
    "\n",
    "#hace un conteo de las palabras pero tiene como desventajas que no toma en cuenta la importancia de cada palabra"
   ]
  },
  {
   "cell_type": "code",
   "execution_count": 34,
   "id": "fe5e2f37",
   "metadata": {},
   "outputs": [
    {
     "name": "stderr",
     "output_type": "stream",
     "text": [
      "/Users/angelmarquez/anaconda3/lib/python3.9/site-packages/sklearn/utils/deprecation.py:87: FutureWarning: Function get_feature_names is deprecated; get_feature_names is deprecated in 1.0 and will be removed in 1.2. Please use get_feature_names_out instead.\n",
      "  warnings.warn(msg, category=FutureWarning)\n"
     ]
    },
    {
     "data": {
      "text/html": [
       "<div>\n",
       "<style scoped>\n",
       "    .dataframe tbody tr th:only-of-type {\n",
       "        vertical-align: middle;\n",
       "    }\n",
       "\n",
       "    .dataframe tbody tr th {\n",
       "        vertical-align: top;\n",
       "    }\n",
       "\n",
       "    .dataframe thead th {\n",
       "        text-align: right;\n",
       "    }\n",
       "</style>\n",
       "<table border=\"1\" class=\"dataframe\">\n",
       "  <thead>\n",
       "    <tr style=\"text-align: right;\">\n",
       "      <th></th>\n",
       "      <th>amo</th>\n",
       "      <th>codigo</th>\n",
       "      <th>código</th>\n",
       "      <th>el</th>\n",
       "      <th>en</th>\n",
       "      <th>escribir</th>\n",
       "      <th>java</th>\n",
       "      <th>odio</th>\n",
       "      <th>python</th>\n",
       "    </tr>\n",
       "  </thead>\n",
       "  <tbody>\n",
       "    <tr>\n",
       "      <th>review1</th>\n",
       "      <td>0.576152</td>\n",
       "      <td>0.204969</td>\n",
       "      <td>0.204969</td>\n",
       "      <td>0.204969</td>\n",
       "      <td>0.409937</td>\n",
       "      <td>0.204969</td>\n",
       "      <td>0.000000</td>\n",
       "      <td>0.000000</td>\n",
       "      <td>0.576152</td>\n",
       "    </tr>\n",
       "    <tr>\n",
       "      <th>review2</th>\n",
       "      <td>0.000000</td>\n",
       "      <td>0.204969</td>\n",
       "      <td>0.204969</td>\n",
       "      <td>0.204969</td>\n",
       "      <td>0.409937</td>\n",
       "      <td>0.204969</td>\n",
       "      <td>0.576152</td>\n",
       "      <td>0.576152</td>\n",
       "      <td>0.000000</td>\n",
       "    </tr>\n",
       "  </tbody>\n",
       "</table>\n",
       "</div>"
      ],
      "text/plain": [
       "              amo    codigo    código        el        en  escribir      java  \\\n",
       "review1  0.576152  0.204969  0.204969  0.204969  0.409937  0.204969  0.000000   \n",
       "review2  0.000000  0.204969  0.204969  0.204969  0.409937  0.204969  0.576152   \n",
       "\n",
       "             odio    python  \n",
       "review1  0.000000  0.576152  \n",
       "review2  0.576152  0.000000  "
      ]
     },
     "execution_count": 34,
     "metadata": {},
     "output_type": "execute_result"
    }
   ],
   "source": [
    "#Tfidf (term frequency - inverse document frequency)\n",
    "import pandas as pd\n",
    "from sklearn.feature_extraction.text import TfidfVectorizer\n",
    "text = [\"Amo escribir codigo en Python. Amo el código en Python\",\n",
    "        \"Odio escribir codigo en Java. Odio el código en Java\"]\n",
    "\n",
    "df = pd.DataFrame({'review': ['review1', 'review2'], 'text':text})\n",
    "tfidf = TfidfVectorizer(stop_words='english')\n",
    "tfidf_matrix = tfidf.fit_transform(df['text'])\n",
    "df_dtm = pd.DataFrame(tfidf_matrix.toarray(), index=df['review'].values, columns=tfidf.get_feature_names())\n",
    "df_dtm\n",
    "#hace una matriz con palabras tomando en cuenta su importancia y frecuencia"
   ]
  },
  {
   "cell_type": "code",
   "execution_count": 35,
   "id": "6fe2ad0c",
   "metadata": {},
   "outputs": [],
   "source": [
    "from sklearn.feature_extraction.text import TfidfVectorizer\n",
    "\n",
    "tfidf = TfidfVectorizer(stop_words='english')\n",
    "train_x_vector = tfidf.fit_transform(train_x)\n",
    "\n",
    "test_x_vector = tfidf.transform(test_x)\n",
    "#fit: encontrar parametros ideales\n",
    "#transform: aplica los parametros previamente encontrados con fit"
   ]
  },
  {
   "cell_type": "code",
   "execution_count": 36,
   "id": "901d814f",
   "metadata": {},
   "outputs": [
    {
     "data": {
      "text/plain": [
       "<1340x19970 sparse matrix of type '<class 'numpy.float64'>'\n",
       "\twith 114698 stored elements in Compressed Sparse Row format>"
      ]
     },
     "execution_count": 36,
     "metadata": {},
     "output_type": "execute_result"
    }
   ],
   "source": [
    "train_x_vector"
   ]
  },
  {
   "cell_type": "raw",
   "id": "d002c035",
   "metadata": {},
   "source": [
    " Seleccion del Modelo\n",
    " ML algoritmos\n",
    "\n",
    "Aprendizaje supervisado (Supervised learning): Regresion (output numerico), Clasificacion (output discreto)\n",
    "Input: Review\n",
    "Output: Sentiment (discrete)\n",
    "Aprendizaje no supervisado"
   ]
  },
  {
   "cell_type": "raw",
   "id": "75e88ce1",
   "metadata": {},
   "source": [
    "Identificar el tipo de aprendizaje, en supervisado sabemos el input y el output, en no supervisado se buscan patrones porque no esta definido el output"
   ]
  },
  {
   "cell_type": "markdown",
   "id": "4a296500",
   "metadata": {},
   "source": [
    "# Support Vector Machines (SVM)"
   ]
  },
  {
   "cell_type": "code",
   "execution_count": 52,
   "id": "9deac6b4",
   "metadata": {},
   "outputs": [
    {
     "data": {
      "text/plain": [
       "SVC(kernel='linear')"
      ]
     },
     "execution_count": 52,
     "metadata": {},
     "output_type": "execute_result"
    }
   ],
   "source": [
    "from sklearn.svm import SVC\n",
    "\n",
    "svc = SVC(kernel='linear')\n",
    "svc.fit(train_x_vector, train_y)\n",
    "\n"
   ]
  },
  {
   "cell_type": "markdown",
   "id": "10b103e1",
   "metadata": {},
   "source": [
    "# testeo\n"
   ]
  },
  {
   "cell_type": "code",
   "execution_count": 38,
   "id": "a94890aa",
   "metadata": {},
   "outputs": [
    {
     "name": "stdout",
     "output_type": "stream",
     "text": [
      "['positive']\n",
      "['positive']\n",
      "['negative']\n"
     ]
    }
   ],
   "source": [
    "#para el testeo se usa data numerica, entonces usamos tfidf para convertirlo en valores numericos\n",
    "print(svc.predict(tfidf.transform(['A good movie']))) \n",
    "print(svc.predict(tfidf.transform(['An excellent movie'])))\n",
    "print(svc.predict(tfidf.transform(['\"I did not like this movie at all I gave this movie away\"'])))"
   ]
  },
  {
   "cell_type": "markdown",
   "id": "f1055b37",
   "metadata": {},
   "source": [
    "# decision tree\n"
   ]
  },
  {
   "cell_type": "code",
   "execution_count": 39,
   "id": "7da0c03c",
   "metadata": {},
   "outputs": [
    {
     "data": {
      "text/plain": [
       "DecisionTreeClassifier()"
      ]
     },
     "execution_count": 39,
     "metadata": {},
     "output_type": "execute_result"
    }
   ],
   "source": [
    "# entrenamos el modelo de arbol de decisiones con la informacion que obtuvimos\n",
    "from sklearn.tree import DecisionTreeClassifier\n",
    "\n",
    "dec_tree = DecisionTreeClassifier()\n",
    "dec_tree.fit(train_x_vector, train_y)"
   ]
  },
  {
   "cell_type": "markdown",
   "id": "af226fc9",
   "metadata": {},
   "source": [
    "# Naive bayes"
   ]
  },
  {
   "cell_type": "code",
   "execution_count": 40,
   "id": "86a7259b",
   "metadata": {},
   "outputs": [
    {
     "data": {
      "text/plain": [
       "GaussianNB()"
      ]
     },
     "execution_count": 40,
     "metadata": {},
     "output_type": "execute_result"
    }
   ],
   "source": [
    "# entrenamos el modelo de Bayes con la misma informacion\n",
    "from sklearn.naive_bayes import GaussianNB\n",
    "\n",
    "gnb = GaussianNB()\n",
    "gnb.fit(train_x_vector.toarray(), train_y)"
   ]
  },
  {
   "cell_type": "markdown",
   "id": "890bbc56",
   "metadata": {},
   "source": [
    "# Logistic Regression"
   ]
  },
  {
   "cell_type": "code",
   "execution_count": 41,
   "id": "59595630",
   "metadata": {},
   "outputs": [
    {
     "data": {
      "text/plain": [
       "LogisticRegression()"
      ]
     },
     "execution_count": 41,
     "metadata": {},
     "output_type": "execute_result"
    }
   ],
   "source": [
    "# entrenamos el modelo de regresion logistica con la misma informacion\n",
    "from sklearn.linear_model import LogisticRegression\n",
    "\n",
    "lr = LogisticRegression()\n",
    "lr.fit(train_x_vector, train_y)"
   ]
  },
  {
   "cell_type": "markdown",
   "id": "499c6dc2",
   "metadata": {},
   "source": [
    "# Score (accuracy)"
   ]
  },
  {
   "cell_type": "code",
   "execution_count": 42,
   "id": "4c41e0f4",
   "metadata": {},
   "outputs": [
    {
     "name": "stdout",
     "output_type": "stream",
     "text": [
      "0.85\n",
      "0.6878787878787879\n",
      "0.646969696969697\n",
      "0.8333333333333334\n"
     ]
    }
   ],
   "source": [
    "#con score se ponen dos parametros. el primero es el input y el segundo el output, aqui ya se usa la data de testeo\n",
    "print(svc.score(test_x_vector, test_y))\n",
    "print(dec_tree.score(test_x_vector, test_y))\n",
    "print(gnb.score(test_x_vector.toarray(), test_y))\n",
    "print(lr.score(test_x_vector, test_y))"
   ]
  },
  {
   "cell_type": "markdown",
   "id": "6b265122",
   "metadata": {},
   "source": [
    "# F1 score"
   ]
  },
  {
   "cell_type": "code",
   "execution_count": 43,
   "id": "0b41cbe1",
   "metadata": {},
   "outputs": [
    {
     "data": {
      "text/plain": [
       "array([0.85333333, 0.84651163])"
      ]
     },
     "execution_count": 43,
     "metadata": {},
     "output_type": "execute_result"
    }
   ],
   "source": [
    "#F1 Score = 2(Recall Precision) / (Recall + Precision)\n",
    "from sklearn.metrics import f1_score\n",
    "\n",
    "f1_score(test_y, svc.predict(test_x_vector),\n",
    "         labels=['positive', 'negative'],\n",
    "         average=None)\n",
    "\n",
    "#aqui sacamos calificacion en relacion a los resultados positivos y los negativos"
   ]
  },
  {
   "cell_type": "markdown",
   "id": "8eca2741",
   "metadata": {},
   "source": [
    "# reporte de clasificacion"
   ]
  },
  {
   "cell_type": "code",
   "execution_count": 44,
   "id": "17c8960b",
   "metadata": {},
   "outputs": [
    {
     "name": "stdout",
     "output_type": "stream",
     "text": [
      "              precision    recall  f1-score   support\n",
      "\n",
      "    positive       0.85      0.86      0.85       335\n",
      "    negative       0.85      0.84      0.85       325\n",
      "\n",
      "    accuracy                           0.85       660\n",
      "   macro avg       0.85      0.85      0.85       660\n",
      "weighted avg       0.85      0.85      0.85       660\n",
      "\n"
     ]
    }
   ],
   "source": [
    "# eeste es como un resumen de toda la informacion que calculamos antes\n",
    "from sklearn.metrics import classification_report\n",
    "\n",
    "print(classification_report(test_y, svc.predict(test_x_vector),\n",
    "                      labels=['positive', 'negative']))"
   ]
  },
  {
   "cell_type": "markdown",
   "id": "0f262b65",
   "metadata": {},
   "source": [
    "# matriz de confusion"
   ]
  },
  {
   "cell_type": "code",
   "execution_count": 45,
   "id": "5bedb44c",
   "metadata": {},
   "outputs": [
    {
     "data": {
      "text/plain": [
       "array([[288,  47],\n",
       "       [ 52, 273]])"
      ]
     },
     "execution_count": 45,
     "metadata": {},
     "output_type": "execute_result"
    }
   ],
   "source": [
    "# TP, FP\n",
    "# FN, TN\n",
    "from sklearn.metrics import confusion_matrix\n",
    "\n",
    "confusion_matrix(test_y, svc.predict(test_x_vector),\n",
    "                 labels=['positive', 'negative'])"
   ]
  },
  {
   "cell_type": "markdown",
   "id": "0634063c",
   "metadata": {},
   "source": [
    "# GridsearchCV"
   ]
  },
  {
   "cell_type": "code",
   "execution_count": 46,
   "id": "afa56c72",
   "metadata": {},
   "outputs": [
    {
     "data": {
      "text/plain": [
       "GridSearchCV(cv=5, estimator=SVC(),\n",
       "             param_grid={'C': [1, 4, 8, 16, 32], 'kernel': ['linear', 'rbf']})"
      ]
     },
     "execution_count": 46,
     "metadata": {},
     "output_type": "execute_result"
    }
   ],
   "source": [
    "from sklearn.model_selection import GridSearchCV\n",
    "\n",
    "#se hace un diccionario con dos elementos, funcionan como parametros para identificar cual es mas ideal , C es de error permitido\n",
    "#como output nos da los mejores parametros\n",
    "paremetros = {'C':[1,4,8,16,32], 'kernel':['linear', 'rbf']}\n",
    "svc = SVC()\n",
    "svc_grid = GridSearchCV(svc, paremetros, cv=5)#cv, validacion cruzada para ver cuantas validaciones se hacen\n",
    "svc_grid.fit(train_x_vector, train_y)"
   ]
  },
  {
   "cell_type": "code",
   "execution_count": 47,
   "id": "b5c02767",
   "metadata": {},
   "outputs": [
    {
     "name": "stdout",
     "output_type": "stream",
     "text": [
      "SVC(C=1, kernel='linear')\n",
      "{'C': 1, 'kernel': 'linear'}\n"
     ]
    }
   ],
   "source": [
    "print(svc_grid.best_estimator_)\n",
    "print(svc_grid.best_params_)"
   ]
  },
  {
   "cell_type": "code",
   "execution_count": 48,
   "id": "f259f21d",
   "metadata": {},
   "outputs": [
    {
     "data": {
      "text/plain": [
       "0.8313432835820895"
      ]
     },
     "execution_count": 48,
     "metadata": {},
     "output_type": "execute_result"
    }
   ],
   "source": [
    "svc_grid.best_score_"
   ]
  },
  {
   "cell_type": "markdown",
   "id": "b2e89352",
   "metadata": {},
   "source": [
    "# metrica adicional"
   ]
  },
  {
   "cell_type": "code",
   "execution_count": 53,
   "id": "631a9dc7",
   "metadata": {},
   "outputs": [
    {
     "data": {
      "text/plain": [
       "0.85"
      ]
     },
     "execution_count": 53,
     "metadata": {},
     "output_type": "execute_result"
    }
   ],
   "source": [
    "#esta funcion revisa la similitud entre los valores obtenidos y los valores que se esperan\n",
    "#estamos utilizando el normilize default que nos regresa la fraccion correcta de los datos prueba clasificados\n",
    "#hicimos varias pruebas y este metodo nos daba de los mejores resultados en nuestras pruebas\n",
    "from sklearn.metrics import accuracy_score\n",
    "\n",
    "accuracy_score(test_y, svc.predict(test_x_vector))"
   ]
  },
  {
   "cell_type": "code",
   "execution_count": null,
   "id": "7dff9c3c",
   "metadata": {},
   "outputs": [],
   "source": []
  }
 ],
 "metadata": {
  "kernelspec": {
   "display_name": "Python 3 (ipykernel)",
   "language": "python",
   "name": "python3"
  },
  "language_info": {
   "codemirror_mode": {
    "name": "ipython",
    "version": 3
   },
   "file_extension": ".py",
   "mimetype": "text/x-python",
   "name": "python",
   "nbconvert_exporter": "python",
   "pygments_lexer": "ipython3",
   "version": "3.9.13"
  }
 },
 "nbformat": 4,
 "nbformat_minor": 5
}
